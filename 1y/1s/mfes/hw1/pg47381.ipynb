{
  "cells": [
    {
      "cell_type": "markdown",
      "metadata": {
        "id": "BP61myqovDw6"
      },
      "source": [
        "# Trabalho de casa #1\n",
        "\n",
        "**Data**: 11-10-2021\n",
        "\n",
        "## Informações sobre o aluno\n",
        "\n",
        "**Nome**: José Pedro Ribeiro Peixoto<br>\n",
        "**Número**: PG47381<br>\n",
        "**Curso**: Mestrado em Engenharia Informática<br>\n",
        " "
      ]
    },
    {
      "cell_type": "markdown",
      "metadata": {
        "id": "12z9RXR9yHVa"
      },
      "source": [
        "## Enunciado \n",
        "### O \"Clube Desportivo de Ribeirão\" tem as seguintes regras:\n",
        " - Todos os sócios que usam bigode, são de Ribeirão e são casados.\n",
        " - Cada sócio do clube que não é de Ribeirão tem que usar camisola amarela.\n",
        " - Os sócios casados não podem assistir aos jogos ao Domingo.\n",
        " - Um sócio vai aos jogos ao Domingo se e só se é de Ribeirão.\n",
        " - Cada sócio usa bigode ou não usa camisola amarela.\n",
        " - Todos os sócios de Ribeirão usam bigode."
      ]
    },
    {
      "cell_type": "markdown",
      "metadata": {
        "id": "bBzZ6L2Yy33z"
      },
      "source": [
        "**1\\.** Por forma a codificar este puzzle como problema _SAT_, defina um  conjunto adequadode variáveis proposicionais, exprima as regras acima como fórmulas proposicionais, e converta essas fórmulas para CNF.\n",
        "\n",
        "### Variáveis proposicionais\n",
        "\n",
        "- **A** : O sócio usa bigode\n",
        "- **B** : O sócio é Ribeironense\n",
        "- **C** : O sócio é casado\n",
        "- **D** : O sócio usa camisola amarela\n",
        "- **E** : O sócio assiste aos jogos ao Domingo\n",
        "\n",
        "### Regras\n",
        "\n",
        "Todos os sócios que usam bigode, são de Ribeirão e são casados.\n",
        "\n",
        "`A -> (B ∧ C)`\n",
        "\n",
        "---\n",
        "\n",
        "Cada sócio do clube que não é de Ribeirão tem de usar camisola amarela\n",
        "\n",
        "`¬B -> D`\n",
        "\n",
        "---\n",
        "\n",
        "Os sócios casados não podem assistir aos jogos ao Domingo.\n",
        "\n",
        "`C -> ¬E`\n",
        "\n",
        "---\n",
        "\n",
        "Um sócio vai aos jogos ao Domingo se e só se é de Ribeirão.\n",
        "\n",
        "`E <-> B`\n",
        "\n",
        "---\n",
        "\n",
        "Cada sócio usa bigode ou não usa camisola amarela.\n",
        "\n",
        "`A ∨ ¬D`\n",
        "\n",
        "--- \n",
        "\n",
        "Todos os sócios de Ribeirão usam bigode.\n",
        "\n",
        "`B -> A`\n",
        "\n",
        "### Converter para CNF\n",
        "\n",
        "```\n",
        "     (A -> (B ∧ C)) ∧ (¬B -> D) ∧ (C -> ¬E) ∧ (E <-> B) ∧ (A ∨ ¬D) ∧ (B -> A) \n",
        "<->  (¬A ∨ (B ∧ C)) ∧ (B ∨ D) ∧ (¬C ∨ ¬E) ∧ ((E -> B) ∧ (B -> E)) ∧ (A ∨ ¬D) ∧ (¬B ∨ A)\n",
        "<-> (¬A ∨ B) ∧ (¬A ∨ C) ∧ (B ∨ D) ∧ (¬C ∨ ¬E) ∧ (¬E ∨ B) ∧ (¬B ∨ E) ∧ (A ∨ ¬D) ∧ (¬B ∨ A)\n",
        "```\n"
      ]
    },
    {
      "cell_type": "markdown",
      "metadata": {
        "id": "WX9CtPwqzcYU"
      },
      "source": [
        "**2\\.** Codifique o problema num _SAT_ solver e comprove que o conjunto de regras é consistente."
      ]
    },
    {
      "cell_type": "code",
      "execution_count": null,
      "metadata": {
        "id": "jYKGICOo5MhX"
      },
      "outputs": [],
      "source": [
        "!pip install python-sat[pblib,aiger]"
      ]
    },
    {
      "cell_type": "code",
      "execution_count": 5,
      "metadata": {
        "colab": {
          "base_uri": "https://localhost:8080/"
        },
        "id": "KKkYpBc332M5",
        "outputId": "d096066c-0d72-4bfa-9f0a-94f99d791c4f"
      },
      "outputs": [
        {
          "name": "stdout",
          "output_type": "stream",
          "text": [
            "SAT\n",
            "[-1, -2, -3, 4, -5]\n"
          ]
        }
      ],
      "source": [
        "from pysat.solvers import Minisat22\n",
        "\n",
        "s = Minisat22()                # Cria o solver\n",
        "\n",
        "'''\n",
        "A : 1\n",
        "B : 2\n",
        "C : 3\n",
        "D : 4\n",
        "E : 5\n",
        "'''\n",
        "\n",
        "s.add_clause([-1, 2])          # ¬A ∨  B\n",
        "s.add_clause([-1, 3])          # ¬A ∨  C\n",
        "s.add_clause([ 2, 4])          #  B ∨  D\n",
        "s.add_clause([-3,-5])          # ¬C ∨ ¬E\n",
        "s.add_clause([-5, 2])          # ¬E ∨  B\n",
        "s.add_clause([-2, 5])          # ¬B ∨  E\n",
        "s.add_clause([-1,-4])          # A  ∨ ¬D\n",
        "s.add_clause([-2, 1])          # ¬B ∨  A\n",
        "\n",
        "if s.solve():                  # testa a satisfatibilidade\n",
        "    print(\"SAT\")\n",
        "    print(s.get_model())       # imprime o modelo\n",
        "else: \n",
        "    print(\"UNSAT\")\n",
        "\n",
        "s.delete()                     # apaga o solver s"
      ]
    },
    {
      "cell_type": "markdown",
      "metadata": {
        "id": "00sF8h0i5jo6"
      },
      "source": [
        "Existe um conjunto de atirbuições (às variáveis proposicionais) que satisfaz o conjunto de regras:\n",
        "\n",
        "```\n",
        "SAT\n",
        "[-1, -2, -3, 4, -5]\n",
        "```\n",
        "I.e. \n",
        "\n",
        "**A** : Falso<br>\n",
        "**B** : Falso<br>\n",
        "**C** : Falso<br>\n",
        "**D** : Verdadeiro<br>\n",
        "**E** : Falso<br>\n",
        "\n",
        "Logo, o conjunto de regras é consistente (tal como é informado pelo _PySAT_ `SAT`).\n"
      ]
    },
    {
      "cell_type": "markdown",
      "metadata": {
        "id": "5pXWxS4f7BIG"
      },
      "source": [
        "**3\\.** Use agora o SAT solver para o ajudar a responder às seguintes questões: "
      ]
    },
    {
      "cell_type": "markdown",
      "metadata": {
        "id": "ofE7devT7JLd"
      },
      "source": [
        " **(a)** - A afirmação \"Quem usa bigode não pode ir ao jogo ao Domingo.\" é correta?\n",
        "\n",
        " ---\n",
        "\n",
        " ```   \n",
        "       A -> ¬E\n",
        "  <-> ¬A ∨ ¬E\n",
        " ```\n",
        "\n",
        " Acrescenta-se esta clausula ao código da pergunta **2.** e sse o resultado for `SAT` então a afirmação é correta. "
      ]
    },
    {
      "cell_type": "code",
      "execution_count": 6,
      "metadata": {
        "colab": {
          "base_uri": "https://localhost:8080/"
        },
        "id": "reJ0tqUz4Lmg",
        "outputId": "78d99f4c-5f36-4017-d493-d9b84c087e4d"
      },
      "outputs": [
        {
          "name": "stdout",
          "output_type": "stream",
          "text": [
            "SAT\n",
            "[-1, -2, -3, 4, -5]\n"
          ]
        }
      ],
      "source": [
        "from pysat.solvers import Minisat22\n",
        "\n",
        "s = Minisat22()                # Cria o solver\n",
        "\n",
        "'''\n",
        "A : 1\n",
        "B : 2\n",
        "C : 3\n",
        "D : 4\n",
        "E : 5\n",
        "'''\n",
        "\n",
        "s.add_clause([-1, 2])          # ¬A ∨  B\n",
        "s.add_clause([-1, 3])          # ¬A ∨  C\n",
        "s.add_clause([ 2, 4])          #  B ∨  D\n",
        "s.add_clause([-3,-5])          # ¬C ∨ ¬E\n",
        "s.add_clause([-5, 2])          # ¬E ∨  B\n",
        "s.add_clause([-2, 5])          # ¬B ∨  E\n",
        "s.add_clause([-1,-4])          # A  ∨ ¬D\n",
        "s.add_clause([-2, 1])          # ¬B ∨  A\n",
        "\n",
        "# Nova clausula\n",
        "s.add_clause([-1, -5])          # ¬A ∨ ¬E\n",
        "\n",
        "if s.solve():                  # testa a satisfatibilidade\n",
        "    print(\"SAT\")\n",
        "    print(s.get_model())       # imprime o modelo\n",
        "else: \n",
        "    print(\"UNSAT\")\n",
        "\n",
        "s.delete()                     # apaga o solver s"
      ]
    },
    {
      "cell_type": "markdown",
      "metadata": {
        "id": "EgAKK85i8np4"
      },
      "source": [
        "```\n",
        "SAT\n",
        "[-1, -2, -3, 4, -5]\n",
        "```\n",
        "\n",
        "Logo, é correta. (Já se podia esperar este resultado, dado que a nova clausula era `-1 ∨ -5`. Algo que o modelo obtido anteriormente já comprovava)"
      ]
    },
    {
      "cell_type": "markdown",
      "metadata": {
        "id": "uy6lVM4Y9h0T"
      },
      "source": [
        " **(b)** - Pode um membro de camisola amarela ser casado?\n",
        "\n",
        " ---\n",
        "\n",
        " ```\n",
        " D ∧ C\n",
        " ```\n",
        "Acrescenta-se estas duas clausulas ao código da pergunta 2. e sse o resultado for SAT então a afirmação é correta. \n"
      ]
    },
    {
      "cell_type": "code",
      "execution_count": 7,
      "metadata": {
        "colab": {
          "base_uri": "https://localhost:8080/"
        },
        "id": "S_i6AzDj99lm",
        "outputId": "22f0ef5c-9eaa-47aa-cf94-355235ecc0bb"
      },
      "outputs": [
        {
          "name": "stdout",
          "output_type": "stream",
          "text": [
            "SAT\n",
            "[-1, -2, 3, 4, -5]\n"
          ]
        }
      ],
      "source": [
        "from pysat.solvers import Minisat22\n",
        "\n",
        "s = Minisat22()                # Cria o solver\n",
        "\n",
        "'''\n",
        "A : 1\n",
        "B : 2\n",
        "C : 3\n",
        "D : 4\n",
        "E : 5\n",
        "'''\n",
        "\n",
        "s.add_clause([-1, 2])          # ¬A ∨  B\n",
        "s.add_clause([-1, 3])          # ¬A ∨  C\n",
        "s.add_clause([ 2, 4])          #  B ∨  D\n",
        "s.add_clause([-3,-5])          # ¬C ∨ ¬E\n",
        "s.add_clause([-5, 2])          # ¬E ∨  B\n",
        "s.add_clause([-2, 5])          # ¬B ∨  E\n",
        "s.add_clause([-1,-4])          # A  ∨ ¬D\n",
        "s.add_clause([-2, 1])          # ¬B ∨  A\n",
        "\n",
        "# Novas clausulas\n",
        "\n",
        "s.add_clause([4])          # D\n",
        "s.add_clause([3])          # C\n",
        "\n",
        "if s.solve():                  # testa a satisfatibilidade\n",
        "    print(\"SAT\")\n",
        "    print(s.get_model())       # imprime o modelo\n",
        "else: \n",
        "    print(\"UNSAT\")\n",
        "\n",
        "s.delete()                     # apaga o solver s"
      ]
    },
    {
      "cell_type": "markdown",
      "metadata": {
        "id": "nt2YUGpr9iun"
      },
      "source": [
        "```\n",
        "SAT\n",
        "[-1, -2, 3, 4, -5]\n",
        "```\n",
        "\n",
        "Logo, é correta.\n"
      ]
    },
    {
      "cell_type": "markdown",
      "metadata": {
        "id": "8tqI13bL-jzE"
      },
      "source": [
        " **(c)** - A afirmação \"Afinal o clube não pode ter sócios Ribeironenses.\" é correta?\n",
        "\n",
        " ---\n",
        "\n",
        " ```\n",
        " ¬B\n",
        " ```\n",
        "Acrescenta-se esta clausula ao código da pergunta 2. e sse o resultado for SAT então a afirmação é correta. "
      ]
    },
    {
      "cell_type": "code",
      "execution_count": 8,
      "metadata": {
        "colab": {
          "base_uri": "https://localhost:8080/"
        },
        "id": "a-UKJs0T_P_j",
        "outputId": "86165689-d3cc-45ef-db5e-46b850afb540"
      },
      "outputs": [
        {
          "name": "stdout",
          "output_type": "stream",
          "text": [
            "SAT\n",
            "[-1, -2, -3, 4, -5]\n"
          ]
        }
      ],
      "source": [
        "from pysat.solvers import Minisat22\n",
        "\n",
        "s = Minisat22()                # Cria o solver\n",
        "\n",
        "'''\n",
        "A : 1\n",
        "B : 2\n",
        "C : 3\n",
        "D : 4\n",
        "E : 5\n",
        "'''\n",
        "\n",
        "s.add_clause([-1, 2])          # ¬A ∨  B\n",
        "s.add_clause([-1, 3])          # ¬A ∨  C\n",
        "s.add_clause([ 2, 4])          #  B ∨  D\n",
        "s.add_clause([-3,-5])          # ¬C ∨ ¬E\n",
        "s.add_clause([-5, 2])          # ¬E ∨  B\n",
        "s.add_clause([-2, 5])          # ¬B ∨  E\n",
        "s.add_clause([-1,-4])          # A  ∨ ¬D\n",
        "s.add_clause([-2, 1])          # ¬B ∨  A\n",
        "\n",
        "# Nova clausula\n",
        "\n",
        "s.add_clause([-2])          # ¬B\n",
        "\n",
        "if s.solve():                  # testa a satisfatibilidade\n",
        "    print(\"SAT\")\n",
        "    print(s.get_model())       # imprime o modelo\n",
        "else: \n",
        "    print(\"UNSAT\")\n",
        "\n",
        "s.delete()                     # apaga o solver s"
      ]
    },
    {
      "cell_type": "markdown",
      "metadata": {
        "id": "4NH06QmRAAqj"
      },
      "source": [
        "```\n",
        "SAT\n",
        "[-1, -2, -3, 4, -5]\n",
        "```\n",
        "Logo, é correta."
      ]
    }
  ],
  "metadata": {
    "colab": {
      "collapsed_sections": [],
      "name": "pg47381.ipynb",
      "provenance": []
    },
    "kernelspec": {
      "display_name": "Python 3",
      "name": "python3"
    },
    "language_info": {
      "name": "python"
    }
  },
  "nbformat": 4,
  "nbformat_minor": 0
}
