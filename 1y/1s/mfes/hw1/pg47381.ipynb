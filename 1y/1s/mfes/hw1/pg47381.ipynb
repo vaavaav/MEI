{
  "nbformat": 4,
  "nbformat_minor": 0,
  "metadata": {
    "colab": {
      "name": "pg47381.ipynb",
      "provenance": [],
      "collapsed_sections": []
    },
    "interpreter": {
      "hash": "e7370f93d1d0cde622a1f8e1c04877d8463912d04d973331ad4851f04de6915a"
    },
    "kernelspec": {
      "display_name": "Python 3.9.7 64-bit",
      "name": "python3"
    },
    "language_info": {
      "codemirror_mode": {
        "name": "ipython",
        "version": 3
      },
      "file_extension": ".py",
      "mimetype": "text/x-python",
      "name": "python",
      "nbconvert_exporter": "python",
      "pygments_lexer": "ipython3",
      "version": "3.9.7"
    }
  },
  "cells": [
    {
      "cell_type": "markdown",
      "metadata": {
        "id": "BP61myqovDw6"
      },
      "source": [
        "# Trabalho de casa #1\n",
        "\n",
        "**Data**: 11-10-2021\n",
        "\n",
        "## Informações sobre o aluno\n",
        "\n",
        "**Nome**: José Pedro Ribeiro Peixoto<br>\n",
        "**Número**: PG47381<br>\n",
        "**Curso**: Mestrado em Engenharia Informática<br>\n",
        " "
      ]
    },
    {
      "cell_type": "markdown",
      "metadata": {
        "id": "12z9RXR9yHVa"
      },
      "source": [
        "## Enunciado \n",
        "### O \"Clube Desportivo de Ribeirão\" tem as seguintes regras:\n",
        " - Todos os sócios que usam bigode são casados.\n",
        " - Cada sócio do clube que não é de Ribeirão tem que usar camisola amarela.\n",
        " - Os sócios casados não podem assistir aos jogos ao Domingo.\n",
        " - Um sócio vai aos jogos ao Domingo se e só se é de Ribeirão.\n",
        " - Cada sócio usa bigode ou não usa camisola amarela.\n",
        " - Todos os sócios de Ribeirão usam bigode."
      ]
    },
    {
      "cell_type": "markdown",
      "metadata": {
        "id": "bBzZ6L2Yy33z"
      },
      "source": [
        "**1\\.** Por forma a codificar este puzzle como problema _SAT_, defina um  conjunto adequadode variáveis proposicionais, exprima as regras acima como fórmulas proposicionais, e converta essas fórmulas para CNF.\n",
        "\n",
        "### Variáveis proposicionais\n",
        "\n",
        "- **A** : O sócio usa bigode\n",
        "- **B** : O sócio é Ribeironense\n",
        "- **C** : O sócio é casado\n",
        "- **D** : O sócio usa camisola amarela\n",
        "- **E** : O sócio assiste aos jogos ao Domingo\n",
        "\n",
        "### Regras\n",
        "\n",
        "Todos os sócios que usam bigode são casados.\n",
        "\n",
        "`A -> C`\n",
        "\n",
        "---\n",
        "\n",
        "Cada sócio do clube que não é de Ribeirão tem de usar camisola amarela\n",
        "\n",
        "`¬B -> D`\n",
        "\n",
        "---\n",
        "\n",
        "Os sócios casados não podem assistir aos jogos ao Domingo.\n",
        "\n",
        "`C -> ¬E`\n",
        "\n",
        "---\n",
        "\n",
        "Um sócio vai aos jogos ao Domingo se e só se é de Ribeirão.\n",
        "\n",
        "`E <-> B`\n",
        "\n",
        "---\n",
        "\n",
        "Cada sócio usa bigode ou não usa camisola amarela.\n",
        "\n",
        "`A ∨ ¬D`\n",
        "\n",
        "--- \n",
        "\n",
        "Todos os sócios de Ribeirão usam bigode.\n",
        "\n",
        "`B -> A`\n",
        "\n",
        "### Converter para CNF\n",
        "\n",
        "```\n",
        "     (A -> C) ∧ (¬B -> D) ∧ (C -> ¬E) ∧ (E <-> B) ∧ (A ∨ ¬D) ∧ (B -> A) \n",
        "<->  (¬A ∨ C) ∧ (B ∨ D) ∧ (¬C ∨ ¬E) ∧ ((E -> B) ∧ (B -> E)) ∧ (A ∨ ¬D) ∧ (¬B ∨ A)\n",
        "<-> (¬A ∨ C) ∧ (B ∨ D) ∧ (¬C ∨ ¬E) ∧ (¬E ∨ B) ∧ (¬B ∨ E) ∧ (A ∨ ¬D) ∧ (¬B ∨ A)\n",
        "```\n"
      ]
    },
    {
      "cell_type": "markdown",
      "metadata": {
        "id": "WX9CtPwqzcYU"
      },
      "source": [
        "**2\\.** Codifique o problema num _SAT_ solver e comprove que o conjunto de regras é consistente."
      ]
    },
    {
      "cell_type": "code",
      "metadata": {
        "id": "jYKGICOo5MhX"
      },
      "source": [
        "!pip install python-sat[pblib,aiger]"
      ],
      "execution_count": null,
      "outputs": []
    },
    {
      "cell_type": "code",
      "metadata": {
        "colab": {
          "base_uri": "https://localhost:8080/"
        },
        "id": "KKkYpBc332M5",
        "outputId": "238c30e4-9a8c-45c6-b0e6-a8140e3f78b1"
      },
      "source": [
        "from pysat.solvers import Minisat22\n",
        "\n",
        "s = Minisat22()                # Cria o solver\n",
        "\n",
        "'''\n",
        "A : 1\n",
        "B : 2\n",
        "C : 3\n",
        "D : 4\n",
        "E : 5\n",
        "'''\n",
        "\n",
        "s.add_clause([-1, 3])          # ¬A ∨  C\n",
        "s.add_clause([ 2, 4])          #  B ∨  D\n",
        "s.add_clause([-3,-5])          # ¬C ∨ ¬E\n",
        "s.add_clause([-5, 2])          # ¬E ∨  B\n",
        "s.add_clause([-2, 5])          # ¬B ∨  E\n",
        "s.add_clause([-1,-4])          # A  ∨ ¬D\n",
        "s.add_clause([-2, 1])          # ¬B ∨  A\n",
        "\n",
        "if s.solve():                  # testa a satisfatibilidade\n",
        "    print(\"SAT\")\n",
        "    print(s.get_model())       # imprime o modelo\n",
        "else: \n",
        "    print(\"UNSAT\")\n",
        "\n",
        "s.delete()                     # apaga o solver s"
      ],
      "execution_count": 3,
      "outputs": [
        {
          "output_type": "stream",
          "name": "stdout",
          "text": [
            "SAT\n",
            "[-1, -2, -3, 4, -5]\n"
          ]
        }
      ]
    },
    {
      "cell_type": "markdown",
      "metadata": {
        "id": "00sF8h0i5jo6"
      },
      "source": [
        "Existe um conjunto de atirbuições (às variáveis proposicionais) que satisfaz o conjunto de regras:\n",
        "\n",
        "```\n",
        "SAT\n",
        "[-1, -2, -3, 4, -5]\n",
        "```\n",
        "I.e. \n",
        "\n",
        "**A** : Falso<br>\n",
        "**B** : Falso<br>\n",
        "**C** : Falso<br>\n",
        "**D** : Verdadeiro<br>\n",
        "**E** : Falso<br>\n",
        "\n",
        "Logo, o conjunto de regras é consistente (tal como é informado pelo _PySAT_ `SAT`).\n"
      ]
    },
    {
      "cell_type": "markdown",
      "metadata": {
        "id": "5pXWxS4f7BIG"
      },
      "source": [
        "**3\\.** Use agora o SAT solver para o ajudar a responder às seguintes questões: "
      ]
    },
    {
      "cell_type": "markdown",
      "metadata": {
        "id": "ofE7devT7JLd"
      },
      "source": [
        " **(a)** - A afirmação \"Quem usa bigode não pode ir ao jogo ao Domingo.\" é correta?\n",
        "\n",
        "Para verificar a validades desta pergunta, adiciona-se a sua negação ao conjunto de fórmulas do problema. Caso o resultado obtido seja `UNSAT`, então a afirmação é verdadeira.\n",
        "\n",
        " ```   \n",
        "       ¬(A -> ¬E)\n",
        "  <-> ¬(¬A ∨ ¬E)\n",
        "  <-> A ∧ E\n",
        " ```"
      ]
    },
    {
      "cell_type": "code",
      "metadata": {
        "colab": {
          "base_uri": "https://localhost:8080/"
        },
        "id": "reJ0tqUz4Lmg",
        "outputId": "89064fd2-dc5f-4e69-bd65-dee243557e36"
      },
      "source": [
        "from pysat.solvers import Minisat22\n",
        "\n",
        "s = Minisat22()                # Cria o solver\n",
        "\n",
        "'''\n",
        "A : 1\n",
        "B : 2\n",
        "C : 3\n",
        "D : 4\n",
        "E : 5\n",
        "'''\n",
        "\n",
        "s.add_clause([-1, 3])          # ¬A ∨  C\n",
        "s.add_clause([ 2, 4])          #  B ∨  D\n",
        "s.add_clause([-3,-5])          # ¬C ∨ ¬E\n",
        "s.add_clause([-5, 2])          # ¬E ∨  B\n",
        "s.add_clause([-2, 5])          # ¬B ∨  E\n",
        "s.add_clause([-1,-4])          # A  ∨ ¬D\n",
        "s.add_clause([-2, 1])          # ¬B ∨  A\n",
        "\n",
        "# Nova clausula\n",
        "s.add_clause([1, 5])          # A ∧ E\n",
        "\n",
        "if s.solve():                  # testa a satisfatibilidade\n",
        "    print(\"SAT\")\n",
        "    print(s.get_model())       # imprime o modelo\n",
        "else: \n",
        "    print(\"UNSAT\")\n",
        "\n",
        "s.delete()                     # apaga o solver s"
      ],
      "execution_count": 6,
      "outputs": [
        {
          "output_type": "stream",
          "name": "stdout",
          "text": [
            "UNSAT\n"
          ]
        }
      ]
    },
    {
      "cell_type": "markdown",
      "metadata": {
        "id": "EgAKK85i8np4"
      },
      "source": [
        "```\n",
        "UNSAT\n",
        "```\n",
        "\n",
        "Logo, a afirmação é correta.\n",
        "\n",
        "---"
      ]
    },
    {
      "cell_type": "markdown",
      "metadata": {
        "id": "uy6lVM4Y9h0T"
      },
      "source": [
        " **(b)** - Pode um membro de camisola amarela ser casado?\n",
        "\n",
        "Para verificar a validades desta pergunta, adiciona-se a sua negação ao conjunto de fórmulas do problema. Caso o resultado obtido seja `UNSAT`, então a afirmação é verdadeira.\n",
        "\n",
        " ```\n",
        "    ¬(D ∧ C)\n",
        "<-> ¬D ∨ ¬C\n",
        " ```\n"
      ]
    },
    {
      "cell_type": "code",
      "metadata": {
        "colab": {
          "base_uri": "https://localhost:8080/"
        },
        "id": "S_i6AzDj99lm",
        "outputId": "102db5a9-a619-4c31-b1f5-27ff095d5e39"
      },
      "source": [
        "from pysat.solvers import Minisat22\n",
        "\n",
        "s = Minisat22()                # Cria o solver\n",
        "\n",
        "'''\n",
        "A : 1\n",
        "B : 2\n",
        "C : 3\n",
        "D : 4\n",
        "E : 5\n",
        "'''\n",
        "\n",
        "s.add_clause([-1, 3])          # ¬A ∨  C\n",
        "s.add_clause([ 2, 4])          #  B ∨  D\n",
        "s.add_clause([-3,-5])          # ¬C ∨ ¬E\n",
        "s.add_clause([-5, 2])          # ¬E ∨  B\n",
        "s.add_clause([-2, 5])          # ¬B ∨  E\n",
        "s.add_clause([-1,-4])          # A  ∨ ¬D\n",
        "s.add_clause([-2, 1])          # ¬B ∨  A\n",
        "\n",
        "# Novas clausulas\n",
        "\n",
        "s.add_clause([-4, -3])          # ¬D ∨ ¬C\n",
        "\n",
        "if s.solve():                  # testa a satisfatibilidade\n",
        "    print(\"SAT\")\n",
        "    print(s.get_model())       # imprime o modelo\n",
        "else: \n",
        "    print(\"UNSAT\")\n",
        "\n",
        "s.delete()                     # apaga o solver s"
      ],
      "execution_count": 8,
      "outputs": [
        {
          "output_type": "stream",
          "name": "stdout",
          "text": [
            "SAT\n",
            "[-1, -2, -3, 4, -5]\n"
          ]
        }
      ]
    },
    {
      "cell_type": "markdown",
      "metadata": {
        "id": "nt2YUGpr9iun"
      },
      "source": [
        "```\n",
        "SAT\n",
        "[-1, -2, -3, 4, -5]\n",
        "```\n",
        "\n",
        "Logo, visto que o problema é satisfazível, então a afirmação é **incorreta**.\n",
        "\n",
        "---\n"
      ]
    },
    {
      "cell_type": "markdown",
      "metadata": {
        "id": "8tqI13bL-jzE"
      },
      "source": [
        " **(c)** - A afirmação \"Afinal o clube não pode ter sócios Ribeironenses.\" é correta?\n",
        "\n",
        "Para verificar a validades desta pergunta, adiciona-se a sua negação ao conjunto de fórmulas do problema. Caso o resultado obtido seja UNSAT, então a afirmação é verdadeira.\n",
        "\n",
        "\n",
        " ```\n",
        "    ¬¬B\n",
        "<-> B\n",
        " ```"
      ]
    },
    {
      "cell_type": "code",
      "metadata": {
        "colab": {
          "base_uri": "https://localhost:8080/"
        },
        "id": "a-UKJs0T_P_j",
        "outputId": "c5827107-c325-4f3b-f40e-3c2c8343f397"
      },
      "source": [
        "from pysat.solvers import Minisat22\n",
        "\n",
        "s = Minisat22()                # Cria o solver\n",
        "\n",
        "'''\n",
        "A : 1\n",
        "B : 2\n",
        "C : 3\n",
        "D : 4\n",
        "E : 5\n",
        "'''\n",
        "\n",
        "s.add_clause([-1, 3])          # ¬A ∨  C\n",
        "s.add_clause([ 2, 4])          #  B ∨  D\n",
        "s.add_clause([-3,-5])          # ¬C ∨ ¬E\n",
        "s.add_clause([-5, 2])          # ¬E ∨  B\n",
        "s.add_clause([-2, 5])          # ¬B ∨  E\n",
        "s.add_clause([-1,-4])          # A  ∨ ¬D\n",
        "s.add_clause([-2, 1])          # ¬B ∨  A\n",
        "\n",
        "# Nova clausula\n",
        "\n",
        "s.add_clause([2])          # ¬B\n",
        "\n",
        "if s.solve():                  # testa a satisfatibilidade\n",
        "    print(\"SAT\")\n",
        "    print(s.get_model())       # imprime o modelo\n",
        "else: \n",
        "    print(\"UNSAT\")\n",
        "\n",
        "s.delete()                     # apaga o solver s"
      ],
      "execution_count": 11,
      "outputs": [
        {
          "output_type": "stream",
          "name": "stdout",
          "text": [
            "UNSAT\n"
          ]
        }
      ]
    },
    {
      "cell_type": "markdown",
      "metadata": {
        "id": "4NH06QmRAAqj"
      },
      "source": [
        "```\n",
        "UNSAT\n",
        "```\n",
        "Logo, como é `UNSAT`, então a afirmação é correta.\n",
        "\n",
        "---"
      ]
    },
    {
      "cell_type": "markdown",
      "metadata": {
        "id": "gn-wNx3WKnNr"
      },
      "source": [
        " **(d)** - Os sócios casados têm todos bigode?\n",
        "\n",
        " Para verificar a validades desta pergunta, adiciona-se a sua negação ao conjunto de fórmulas do problema. Caso o resultado obtido seja UNSAT, então a afirmação é verdadeira.\n",
        "\n",
        "\n",
        " ```\n",
        "    ¬(C -> A)\n",
        "<-> ¬(¬C ∨ A)\n",
        "<-> C ∧ ¬A  \n",
        " ```\n",
        " "
      ]
    },
    {
      "cell_type": "code",
      "metadata": {
        "colab": {
          "base_uri": "https://localhost:8080/"
        },
        "id": "OJsVaby8KnNs",
        "outputId": "515a263f-6e63-45cd-e4c8-d588f5d4d941"
      },
      "source": [
        "from pysat.solvers import Minisat22\n",
        "\n",
        "s = Minisat22()                # Cria o solver\n",
        "\n",
        "'''\n",
        "A : 1\n",
        "B : 2\n",
        "C : 3\n",
        "D : 4\n",
        "E : 5\n",
        "'''\n",
        "\n",
        "s.add_clause([-1, 3])          # ¬A ∨  C\n",
        "s.add_clause([ 2, 4])          #  B ∨  D\n",
        "s.add_clause([-3,-5])          # ¬C ∨ ¬E\n",
        "s.add_clause([-5, 2])          # ¬E ∨  B\n",
        "s.add_clause([-2, 5])          # ¬B ∨  E\n",
        "s.add_clause([-1,-4])          # A  ∨ ¬D\n",
        "s.add_clause([-2, 1])          # ¬B ∨  A\n",
        "\n",
        "# Nova clausula\n",
        "\n",
        "s.add_clause([3])          # C\n",
        "s.add_clause([-1])          # ¬A\n",
        "\n",
        "if s.solve():                  # testa a satisfatibilidade\n",
        "    print(\"SAT\")\n",
        "    print(s.get_model())       # imprime o modelo\n",
        "else: \n",
        "    print(\"UNSAT\")\n",
        "\n",
        "s.delete()                     # apaga o solver s"
      ],
      "execution_count": 10,
      "outputs": [
        {
          "output_type": "stream",
          "name": "stdout",
          "text": [
            "SAT\n",
            "[-1, -2, 3, 4, -5]\n"
          ]
        }
      ]
    },
    {
      "cell_type": "markdown",
      "metadata": {
        "id": "TxRPAeTLLRpS"
      },
      "source": [
        "```\n",
        "SAT\n",
        "[-1, -2, -3, 4, -5]\n",
        "```\n",
        "\n",
        "Logo, visto que o problema é satisfazível, então a afirmação é **incorreta**.\n",
        "\n",
        "---\n"
      ]
    },
    {
      "cell_type": "markdown",
      "metadata": {
        "id": "Z7B8NFkbKnN2"
      },
      "source": [
        " **(e)** - A afirmação \"Ao domingo nunca há sócios a assistir aos jogos.\" é correta?\n",
        "\n",
        " Para verificar a validades desta pergunta, adiciona-se a sua negação ao conjunto de fórmulas do problema. Caso o resultado obtido seja UNSAT, então a afirmação é verdadeira.\n",
        "\n",
        "\n",
        " ```\n",
        "    ¬¬E  \n",
        "<-> E\n",
        " ```"
      ]
    },
    {
      "cell_type": "code",
      "metadata": {
        "colab": {
          "base_uri": "https://localhost:8080/"
        },
        "id": "pJCwuNp9KnN2",
        "outputId": "5b292db6-9097-48c8-ef7c-d65b5a48d0c4"
      },
      "source": [
        "from pysat.solvers import Minisat22\n",
        "\n",
        "s = Minisat22()                # Cria o solver\n",
        "\n",
        "'''\n",
        "A : 1\n",
        "B : 2\n",
        "C : 3\n",
        "D : 4\n",
        "E : 5\n",
        "'''\n",
        "\n",
        "s.add_clause([-1, 3])          # ¬A ∨  C\n",
        "s.add_clause([ 2, 4])          #  B ∨  D\n",
        "s.add_clause([-3,-5])          # ¬C ∨ ¬E\n",
        "s.add_clause([-5, 2])          # ¬E ∨  B\n",
        "s.add_clause([-2, 5])          # ¬B ∨  E\n",
        "s.add_clause([-1,-4])          # A  ∨ ¬D\n",
        "s.add_clause([-2, 1])          # ¬B ∨  A\n",
        "\n",
        "# Nova clausula\n",
        "\n",
        "s.add_clause([5])          # E\n",
        "\n",
        "if s.solve():                  # testa a satisfatibilidade\n",
        "    print(\"SAT\")\n",
        "    print(s.get_model())       # imprime o modelo\n",
        "else: \n",
        "    print(\"UNSAT\")\n",
        "\n",
        "s.delete()                     # apaga o solver s"
      ],
      "execution_count": 12,
      "outputs": [
        {
          "output_type": "stream",
          "name": "stdout",
          "text": [
            "UNSAT\n"
          ]
        }
      ]
    },
    {
      "cell_type": "markdown",
      "metadata": {
        "id": "X0c9EFZYLZON"
      },
      "source": [
        "```\n",
        "UNSAT\n",
        "```\n",
        "\n",
        "Logo, a afirmação é correta.\n",
        "\n",
        "---"
      ]
    }
  ]
}