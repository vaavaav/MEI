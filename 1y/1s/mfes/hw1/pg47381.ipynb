{
  "nbformat": 4,
  "nbformat_minor": 0,
  "metadata": {
    "colab": {
      "name": "pg47381.ipynb",
      "provenance": [],
      "collapsed_sections": []
    },
    "interpreter": {
      "hash": "e7370f93d1d0cde622a1f8e1c04877d8463912d04d973331ad4851f04de6915a"
    },
    "kernelspec": {
      "display_name": "Python 3.9.7 64-bit",
      "name": "python3"
    },
    "language_info": {
      "codemirror_mode": {
        "name": "ipython",
        "version": 3
      },
      "file_extension": ".py",
      "mimetype": "text/x-python",
      "name": "python",
      "nbconvert_exporter": "python",
      "pygments_lexer": "ipython3",
      "version": "3.9.7"
    }
  },
  "cells": [
    {
      "cell_type": "markdown",
      "metadata": {
        "id": "BP61myqovDw6"
      },
      "source": [
        "# Trabalho de casa #1\n",
        "\n",
        "**Data**: 11-10-2021\n",
        "\n",
        "## Informações sobre o aluno\n",
        "\n",
        "**Nome**: José Pedro Ribeiro Peixoto<br>\n",
        "**Número**: PG47381<br>\n",
        "**Curso**: Mestrado em Engenharia Informática<br>\n",
        " "
      ]
    },
    {
      "cell_type": "markdown",
      "metadata": {
        "id": "12z9RXR9yHVa"
      },
      "source": [
        "## Enunciado \n",
        "### O \"Clube Desportivo de Ribeirão\" tem as seguintes regras:\n",
        " - Todos os sócios que usam bigode, são de Ribeirão e são casados.\n",
        " - Cada sócio do clube que não é de Ribeirão tem que usar camisola amarela.\n",
        " - Os sócios casados não podem assistir aos jogos ao Domingo.\n",
        " - Um sócio vai aos jogos ao Domingo se e só se é de Ribeirão.\n",
        " - Cada sócio usa bigode ou não usa camisola amarela.\n",
        " - Todos os sócios de Ribeirão usam bigode."
      ]
    },
    {
      "cell_type": "markdown",
      "metadata": {
        "id": "bBzZ6L2Yy33z"
      },
      "source": [
        "**1\\.** Por forma a codificar este puzzle como problema _SAT_, defina um  conjunto adequadode variáveis proposicionais, exprima as regras acima como fórmulas proposicionais, e converta essas fórmulas para CNF.\n",
        "\n",
        "### Variáveis proposicionais\n",
        "\n",
        "- **A** : O sócio usa bigode\n",
        "- **B** : O sócio é Ribeironense\n",
        "- **C** : O sócio é casado\n",
        "- **D** : O sócio usa camisola amarela\n",
        "- **E** : O sócio assiste aos jogos ao Domingo\n",
        "\n",
        "### Regras\n",
        "\n",
        "Todos os sócios que usam bigode, são de Ribeirão e são casados.\n",
        "\n",
        "`A -> (B ∧ C)`\n",
        "\n",
        "---\n",
        "\n",
        "Cada sócio do clube que não é de Ribeirão tem de usar camisola amarela\n",
        "\n",
        "`¬B -> D`\n",
        "\n",
        "---\n",
        "\n",
        "Os sócios casados não podem assistir aos jogos ao Domingo.\n",
        "\n",
        "`C -> ¬E`\n",
        "\n",
        "---\n",
        "\n",
        "Um sócio vai aos jogos ao Domingo se e só se é de Ribeirão.\n",
        "\n",
        "`E <-> B`\n",
        "\n",
        "---\n",
        "\n",
        "Cada sócio usa bigode ou não usa camisola amarela.\n",
        "\n",
        "`A ∨ ¬D`\n",
        "\n",
        "--- \n",
        "\n",
        "Todos os sócios de Ribeirão usam bigode.\n",
        "\n",
        "`B -> A`\n",
        "\n",
        "### Converter para CNF\n",
        "\n",
        "```\n",
        "     (A -> (B ∧ C)) ∧ (¬B -> D) ∧ (C -> ¬E) ∧ (E <-> B) ∧ (A ∨ ¬D) ∧ (B -> A) \n",
        "<->  (¬A ∨ (B ∧ C)) ∧ (B ∨ D) ∧ (¬C ∨ ¬E) ∧ ((E -> B) ∧ (B -> E)) ∧ (A ∨ ¬D) ∧ (¬B ∨ A)\n",
        "<-> (¬A ∨ B) ∧ (¬A ∨ C) ∧ (B ∨ D) ∧ (¬C ∨ ¬E) ∧ (¬E ∨ B) ∧ (¬B ∨ E) ∧ (A ∨ ¬D) ∧ (¬B ∨ A)\n",
        "```\n"
      ]
    },
    {
      "cell_type": "markdown",
      "metadata": {
        "id": "WX9CtPwqzcYU"
      },
      "source": [
        "**2\\.** Codifique o problema num _SAT_ solver e comprove que o conjunto de regras é consistente."
      ]
    },
    {
      "cell_type": "code",
      "metadata": {
        "id": "jYKGICOo5MhX",
        "outputId": "ed73cdc0-ee55-4c79-9440-bd124ac1c672",
        "colab": {
          "base_uri": "https://localhost:8080/"
        }
      },
      "source": [
        "!pip install python-sat[pblib,aiger]"
      ],
      "execution_count": 1,
      "outputs": [
        {
          "output_type": "stream",
          "name": "stdout",
          "text": [
            "Collecting python-sat[aiger,pblib]\n",
            "  Downloading python_sat-0.1.7.dev11-cp37-cp37m-manylinux2010_x86_64.whl (1.8 MB)\n",
            "\u001b[K     |████████████████████████████████| 1.8 MB 8.0 MB/s \n",
            "\u001b[?25hRequirement already satisfied: six in /usr/local/lib/python3.7/dist-packages (from python-sat[aiger,pblib]) (1.15.0)\n",
            "Collecting pypblib>=0.0.3\n",
            "  Downloading pypblib-0.0.4-cp37-cp37m-manylinux2014_x86_64.whl (3.4 MB)\n",
            "\u001b[K     |████████████████████████████████| 3.4 MB 34.7 MB/s \n",
            "\u001b[?25hCollecting py-aiger-cnf>=2.0.0\n",
            "  Downloading py_aiger_cnf-5.0.2-py3-none-any.whl (5.2 kB)\n",
            "Collecting py-aiger<7.0.0,>=6.0.0\n",
            "  Downloading py_aiger-6.1.14-py3-none-any.whl (18 kB)\n",
            "Collecting funcy<2.0,>=1.12\n",
            "  Downloading funcy-1.16-py2.py3-none-any.whl (32 kB)\n",
            "Collecting bidict<0.22.0,>=0.21.0\n",
            "  Downloading bidict-0.21.3-py3-none-any.whl (36 kB)\n",
            "Collecting attrs<21.0.0,>=20.0.0\n",
            "  Downloading attrs-20.3.0-py2.py3-none-any.whl (49 kB)\n",
            "\u001b[K     |████████████████████████████████| 49 kB 6.8 MB/s \n",
            "\u001b[?25hCollecting parsimonious<0.9.0,>=0.8.1\n",
            "  Downloading parsimonious-0.8.1.tar.gz (45 kB)\n",
            "\u001b[K     |████████████████████████████████| 45 kB 4.1 MB/s \n",
            "\u001b[?25hCollecting toposort<2.0,>=1.5\n",
            "  Downloading toposort-1.7-py2.py3-none-any.whl (9.0 kB)\n",
            "Collecting pyrsistent<0.18.0,>=0.17.0\n",
            "  Downloading pyrsistent-0.17.3.tar.gz (106 kB)\n",
            "\u001b[K     |████████████████████████████████| 106 kB 62.4 MB/s \n",
            "\u001b[?25hRequirement already satisfied: sortedcontainers<3.0.0,>=2.3.0 in /usr/local/lib/python3.7/dist-packages (from py-aiger<7.0.0,>=6.0.0->py-aiger-cnf>=2.0.0->python-sat[aiger,pblib]) (2.4.0)\n",
            "Building wheels for collected packages: parsimonious, pyrsistent\n",
            "  Building wheel for parsimonious (setup.py) ... \u001b[?25l\u001b[?25hdone\n",
            "  Created wheel for parsimonious: filename=parsimonious-0.8.1-py3-none-any.whl size=42724 sha256=d963c221506b73f932cda42b7c32287e1b8bb3e2780fec5225bfb976c8381c7b\n",
            "  Stored in directory: /root/.cache/pip/wheels/88/5d/ba/f27d8af07306b65ee44f9d3f9cadea1db749a421a6db8a99bf\n",
            "  Building wheel for pyrsistent (setup.py) ... \u001b[?25l\u001b[?25hdone\n",
            "  Created wheel for pyrsistent: filename=pyrsistent-0.17.3-cp37-cp37m-linux_x86_64.whl size=98088 sha256=c8807c834c2ef6b539d9b1fbfd2d2f9c61101817510031ca644fd0f7b82051d4\n",
            "  Stored in directory: /root/.cache/pip/wheels/a5/52/bf/71258a1d7b3c8cbe1ee53f9314c6f65f20385481eaee573cc5\n",
            "Successfully built parsimonious pyrsistent\n",
            "Installing collected packages: toposort, pyrsistent, parsimonious, funcy, bidict, attrs, py-aiger, python-sat, pypblib, py-aiger-cnf\n",
            "  Attempting uninstall: pyrsistent\n",
            "    Found existing installation: pyrsistent 0.18.0\n",
            "    Uninstalling pyrsistent-0.18.0:\n",
            "      Successfully uninstalled pyrsistent-0.18.0\n",
            "  Attempting uninstall: attrs\n",
            "    Found existing installation: attrs 21.2.0\n",
            "    Uninstalling attrs-21.2.0:\n",
            "      Successfully uninstalled attrs-21.2.0\n",
            "\u001b[31mERROR: pip's dependency resolver does not currently take into account all the packages that are installed. This behaviour is the source of the following dependency conflicts.\n",
            "datascience 0.10.6 requires folium==0.2.1, but you have folium 0.8.3 which is incompatible.\u001b[0m\n",
            "Successfully installed attrs-20.3.0 bidict-0.21.3 funcy-1.16 parsimonious-0.8.1 py-aiger-6.1.14 py-aiger-cnf-5.0.2 pypblib-0.0.4 pyrsistent-0.17.3 python-sat-0.1.7.dev11 toposort-1.7\n"
          ]
        }
      ]
    },
    {
      "cell_type": "code",
      "metadata": {
        "colab": {
          "base_uri": "https://localhost:8080/"
        },
        "id": "KKkYpBc332M5",
        "outputId": "d096066c-0d72-4bfa-9f0a-94f99d791c4f"
      },
      "source": [
        "from pysat.solvers import Minisat22\n",
        "\n",
        "s = Minisat22()                # Cria o solver\n",
        "\n",
        "'''\n",
        "A : 1\n",
        "B : 2\n",
        "C : 3\n",
        "D : 4\n",
        "E : 5\n",
        "'''\n",
        "\n",
        "s.add_clause([-1, 2])          # ¬A ∨  B\n",
        "s.add_clause([-1, 3])          # ¬A ∨  C\n",
        "s.add_clause([ 2, 4])          #  B ∨  D\n",
        "s.add_clause([-3,-5])          # ¬C ∨ ¬E\n",
        "s.add_clause([-5, 2])          # ¬E ∨  B\n",
        "s.add_clause([-2, 5])          # ¬B ∨  E\n",
        "s.add_clause([-1,-4])          # A  ∨ ¬D\n",
        "s.add_clause([-2, 1])          # ¬B ∨  A\n",
        "\n",
        "if s.solve():                  # testa a satisfatibilidade\n",
        "    print(\"SAT\")\n",
        "    print(s.get_model())       # imprime o modelo\n",
        "else: \n",
        "    print(\"UNSAT\")\n",
        "\n",
        "s.delete()                     # apaga o solver s"
      ],
      "execution_count": null,
      "outputs": [
        {
          "name": "stdout",
          "output_type": "stream",
          "text": [
            "SAT\n",
            "[-1, -2, -3, 4, -5]\n"
          ]
        }
      ]
    },
    {
      "cell_type": "markdown",
      "metadata": {
        "id": "00sF8h0i5jo6"
      },
      "source": [
        "Existe um conjunto de atirbuições (às variáveis proposicionais) que satisfaz o conjunto de regras:\n",
        "\n",
        "```\n",
        "SAT\n",
        "[-1, -2, -3, 4, -5]\n",
        "```\n",
        "I.e. \n",
        "\n",
        "**A** : Falso<br>\n",
        "**B** : Falso<br>\n",
        "**C** : Falso<br>\n",
        "**D** : Verdadeiro<br>\n",
        "**E** : Falso<br>\n",
        "\n",
        "Logo, o conjunto de regras é consistente (tal como é informado pelo _PySAT_ `SAT`).\n"
      ]
    },
    {
      "cell_type": "markdown",
      "metadata": {
        "id": "5pXWxS4f7BIG"
      },
      "source": [
        "**3\\.** Use agora o SAT solver para o ajudar a responder às seguintes questões: "
      ]
    },
    {
      "cell_type": "markdown",
      "metadata": {
        "id": "ofE7devT7JLd"
      },
      "source": [
        " **(a)** - A afirmação \"Quem usa bigode não pode ir ao jogo ao Domingo.\" é correta?\n",
        "\n",
        " ---\n",
        "\n",
        " ```   \n",
        "       A -> ¬E\n",
        "  <-> ¬A ∨ ¬E\n",
        " ```\n",
        "\n",
        " Acrescenta-se esta clausula ao código da pergunta **2.** e sse o resultado for `SAT` então a afirmação é correta. "
      ]
    },
    {
      "cell_type": "code",
      "metadata": {
        "colab": {
          "base_uri": "https://localhost:8080/"
        },
        "id": "reJ0tqUz4Lmg",
        "outputId": "78d99f4c-5f36-4017-d493-d9b84c087e4d"
      },
      "source": [
        "from pysat.solvers import Minisat22\n",
        "\n",
        "s = Minisat22()                # Cria o solver\n",
        "\n",
        "'''\n",
        "A : 1\n",
        "B : 2\n",
        "C : 3\n",
        "D : 4\n",
        "E : 5\n",
        "'''\n",
        "\n",
        "s.add_clause([-1, 2])          # ¬A ∨  B\n",
        "s.add_clause([-1, 3])          # ¬A ∨  C\n",
        "s.add_clause([ 2, 4])          #  B ∨  D\n",
        "s.add_clause([-3,-5])          # ¬C ∨ ¬E\n",
        "s.add_clause([-5, 2])          # ¬E ∨  B\n",
        "s.add_clause([-2, 5])          # ¬B ∨  E\n",
        "s.add_clause([-1,-4])          # A  ∨ ¬D\n",
        "s.add_clause([-2, 1])          # ¬B ∨  A\n",
        "\n",
        "# Nova clausula\n",
        "s.add_clause([-1, -5])          # ¬A ∨ ¬E\n",
        "\n",
        "if s.solve():                  # testa a satisfatibilidade\n",
        "    print(\"SAT\")\n",
        "    print(s.get_model())       # imprime o modelo\n",
        "else: \n",
        "    print(\"UNSAT\")\n",
        "\n",
        "s.delete()                     # apaga o solver s"
      ],
      "execution_count": null,
      "outputs": [
        {
          "name": "stdout",
          "output_type": "stream",
          "text": [
            "SAT\n",
            "[-1, -2, -3, 4, -5]\n"
          ]
        }
      ]
    },
    {
      "cell_type": "markdown",
      "metadata": {
        "id": "EgAKK85i8np4"
      },
      "source": [
        "```\n",
        "SAT\n",
        "[-1, -2, -3, 4, -5]\n",
        "```\n",
        "\n",
        "Logo, é correta. (Já se podia esperar este resultado, dado que a nova clausula era `-1 ∨ -5`. Algo que o modelo obtido anteriormente já comprovava)"
      ]
    },
    {
      "cell_type": "markdown",
      "metadata": {
        "id": "uy6lVM4Y9h0T"
      },
      "source": [
        " **(b)** - Pode um membro de camisola amarela ser casado?\n",
        "\n",
        " ---\n",
        "\n",
        " ```\n",
        " D ∧ C\n",
        " ```\n",
        "Acrescenta-se estas duas clausulas ao código da pergunta 2. e sse o resultado for SAT então a afirmação é correta. \n"
      ]
    },
    {
      "cell_type": "code",
      "metadata": {
        "colab": {
          "base_uri": "https://localhost:8080/"
        },
        "id": "S_i6AzDj99lm",
        "outputId": "22f0ef5c-9eaa-47aa-cf94-355235ecc0bb"
      },
      "source": [
        "from pysat.solvers import Minisat22\n",
        "\n",
        "s = Minisat22()                # Cria o solver\n",
        "\n",
        "'''\n",
        "A : 1\n",
        "B : 2\n",
        "C : 3\n",
        "D : 4\n",
        "E : 5\n",
        "'''\n",
        "\n",
        "s.add_clause([-1, 2])          # ¬A ∨  B\n",
        "s.add_clause([-1, 3])          # ¬A ∨  C\n",
        "s.add_clause([ 2, 4])          #  B ∨  D\n",
        "s.add_clause([-3,-5])          # ¬C ∨ ¬E\n",
        "s.add_clause([-5, 2])          # ¬E ∨  B\n",
        "s.add_clause([-2, 5])          # ¬B ∨  E\n",
        "s.add_clause([-1,-4])          # A  ∨ ¬D\n",
        "s.add_clause([-2, 1])          # ¬B ∨  A\n",
        "\n",
        "# Novas clausulas\n",
        "\n",
        "s.add_clause([4])          # D\n",
        "s.add_clause([3])          # C\n",
        "\n",
        "if s.solve():                  # testa a satisfatibilidade\n",
        "    print(\"SAT\")\n",
        "    print(s.get_model())       # imprime o modelo\n",
        "else: \n",
        "    print(\"UNSAT\")\n",
        "\n",
        "s.delete()                     # apaga o solver s"
      ],
      "execution_count": null,
      "outputs": [
        {
          "name": "stdout",
          "output_type": "stream",
          "text": [
            "SAT\n",
            "[-1, -2, 3, 4, -5]\n"
          ]
        }
      ]
    },
    {
      "cell_type": "markdown",
      "metadata": {
        "id": "nt2YUGpr9iun"
      },
      "source": [
        "```\n",
        "SAT\n",
        "[-1, -2, 3, 4, -5]\n",
        "```\n",
        "\n",
        "Logo, é correta.\n"
      ]
    },
    {
      "cell_type": "markdown",
      "metadata": {
        "id": "8tqI13bL-jzE"
      },
      "source": [
        " **(c)** - A afirmação \"Afinal o clube não pode ter sócios Ribeironenses.\" é correta?\n",
        "\n",
        " ---\n",
        "\n",
        " ```\n",
        " ¬B\n",
        " ```\n",
        "Acrescenta-se esta clausula ao código da pergunta 2. e sse o resultado for SAT então a afirmação é correta. "
      ]
    },
    {
      "cell_type": "code",
      "metadata": {
        "colab": {
          "base_uri": "https://localhost:8080/"
        },
        "id": "a-UKJs0T_P_j",
        "outputId": "86165689-d3cc-45ef-db5e-46b850afb540"
      },
      "source": [
        "from pysat.solvers import Minisat22\n",
        "\n",
        "s = Minisat22()                # Cria o solver\n",
        "\n",
        "'''\n",
        "A : 1\n",
        "B : 2\n",
        "C : 3\n",
        "D : 4\n",
        "E : 5\n",
        "'''\n",
        "\n",
        "s.add_clause([-1, 2])          # ¬A ∨  B\n",
        "s.add_clause([-1, 3])          # ¬A ∨  C\n",
        "s.add_clause([ 2, 4])          #  B ∨  D\n",
        "s.add_clause([-3,-5])          # ¬C ∨ ¬E\n",
        "s.add_clause([-5, 2])          # ¬E ∨  B\n",
        "s.add_clause([-2, 5])          # ¬B ∨  E\n",
        "s.add_clause([-1,-4])          # A  ∨ ¬D\n",
        "s.add_clause([-2, 1])          # ¬B ∨  A\n",
        "\n",
        "# Nova clausula\n",
        "\n",
        "s.add_clause([-2])          # ¬B\n",
        "\n",
        "if s.solve():                  # testa a satisfatibilidade\n",
        "    print(\"SAT\")\n",
        "    print(s.get_model())       # imprime o modelo\n",
        "else: \n",
        "    print(\"UNSAT\")\n",
        "\n",
        "s.delete()                     # apaga o solver s"
      ],
      "execution_count": null,
      "outputs": [
        {
          "name": "stdout",
          "output_type": "stream",
          "text": [
            "SAT\n",
            "[-1, -2, -3, 4, -5]\n"
          ]
        }
      ]
    },
    {
      "cell_type": "markdown",
      "metadata": {
        "id": "4NH06QmRAAqj"
      },
      "source": [
        "```\n",
        "SAT\n",
        "[-1, -2, -3, 4, -5]\n",
        "```\n",
        "Logo, é correta."
      ]
    },
    {
      "cell_type": "markdown",
      "metadata": {
        "id": "gn-wNx3WKnNr"
      },
      "source": [
        " **(d)** - Os sócios casados têm todos bigode?\n",
        "\n",
        " ---\n",
        "\n",
        " ```\n",
        "    C -> A \n",
        "<-> ¬C ∨ A  \n",
        " ```\n",
        "Acrescenta-se esta clausula ao código da pergunta 2. e sse o resultado for SAT então a afirmação é correta. "
      ]
    },
    {
      "cell_type": "code",
      "metadata": {
        "id": "OJsVaby8KnNs",
        "outputId": "5916cc78-912b-4d42-ef6e-bb42702c4f51",
        "colab": {
          "base_uri": "https://localhost:8080/"
        }
      },
      "source": [
        "from pysat.solvers import Minisat22\n",
        "\n",
        "s = Minisat22()                # Cria o solver\n",
        "\n",
        "'''\n",
        "A : 1\n",
        "B : 2\n",
        "C : 3\n",
        "D : 4\n",
        "E : 5\n",
        "'''\n",
        "\n",
        "s.add_clause([-1, 2])          # ¬A ∨  B\n",
        "s.add_clause([-1, 3])          # ¬A ∨  C\n",
        "s.add_clause([ 2, 4])          #  B ∨  D\n",
        "s.add_clause([-3,-5])          # ¬C ∨ ¬E\n",
        "s.add_clause([-5, 2])          # ¬E ∨  B\n",
        "s.add_clause([-2, 5])          # ¬B ∨  E\n",
        "s.add_clause([-1,-4])          # A  ∨ ¬D\n",
        "s.add_clause([-2, 1])          # ¬B ∨  A\n",
        "\n",
        "# Nova clausula\n",
        "\n",
        "s.add_clause([-3, 1])          # ¬C ∨ A\n",
        "\n",
        "if s.solve():                  # testa a satisfatibilidade\n",
        "    print(\"SAT\")\n",
        "    print(s.get_model())       # imprime o modelo\n",
        "else: \n",
        "    print(\"UNSAT\")\n",
        "\n",
        "s.delete()                     # apaga o solver s"
      ],
      "execution_count": 3,
      "outputs": [
        {
          "output_type": "stream",
          "name": "stdout",
          "text": [
            "SAT\n",
            "[-1, -2, -3, 4, -5]\n"
          ]
        }
      ]
    },
    {
      "cell_type": "markdown",
      "metadata": {
        "id": "TxRPAeTLLRpS"
      },
      "source": [
        "```\n",
        "SAT\n",
        "[-1, -2, -3, 4, -5]\n",
        "```\n",
        "\n",
        "Logo, é correta.\n"
      ]
    },
    {
      "cell_type": "markdown",
      "metadata": {
        "id": "Z7B8NFkbKnN2"
      },
      "source": [
        " **(e)** - A afirmação \"Ao domingo nunca há sócios a assistir aos jogos.\" é correta?\n",
        "\n",
        " ---\n",
        "\n",
        " ```\n",
        " ¬E  \n",
        " ```\n",
        "Acrescenta-se esta clausula ao código da pergunta 2. e sse o resultado for SAT então a afirmação é correta. "
      ]
    },
    {
      "cell_type": "code",
      "metadata": {
        "id": "pJCwuNp9KnN2",
        "outputId": "7411d1f4-9c70-47e6-bc46-30f98e42b1fb",
        "colab": {
          "base_uri": "https://localhost:8080/"
        }
      },
      "source": [
        "from pysat.solvers import Minisat22\n",
        "\n",
        "s = Minisat22()                # Cria o solver\n",
        "\n",
        "'''\n",
        "A : 1\n",
        "B : 2\n",
        "C : 3\n",
        "D : 4\n",
        "E : 5\n",
        "'''\n",
        "\n",
        "s.add_clause([-1, 2])          # ¬A ∨  B\n",
        "s.add_clause([-1, 3])          # ¬A ∨  C\n",
        "s.add_clause([ 2, 4])          #  B ∨  D\n",
        "s.add_clause([-3,-5])          # ¬C ∨ ¬E\n",
        "s.add_clause([-5, 2])          # ¬E ∨  B\n",
        "s.add_clause([-2, 5])          # ¬B ∨  E\n",
        "s.add_clause([-1,-4])          # A  ∨ ¬D\n",
        "s.add_clause([-2, 1])          # ¬B ∨  A\n",
        "\n",
        "# Nova clausula\n",
        "\n",
        "s.add_clause([-5])          # ¬E\n",
        "\n",
        "if s.solve():                  # testa a satisfatibilidade\n",
        "    print(\"SAT\")\n",
        "    print(s.get_model())       # imprime o modelo\n",
        "else: \n",
        "    print(\"UNSAT\")\n",
        "\n",
        "s.delete()                     # apaga o solver s"
      ],
      "execution_count": 2,
      "outputs": [
        {
          "output_type": "stream",
          "name": "stdout",
          "text": [
            "SAT\n",
            "[-1, -2, -3, 4, -5]\n"
          ]
        }
      ]
    },
    {
      "cell_type": "markdown",
      "metadata": {
        "id": "X0c9EFZYLZON"
      },
      "source": [
        "```\n",
        "SAT\n",
        "[-1, -2, -3, 4, -5]\n",
        "```\n",
        "\n",
        "Logo, é correta."
      ]
    }
  ]
}