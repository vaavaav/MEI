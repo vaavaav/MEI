{
 "cells": [
  {
   "cell_type": "code",
   "execution_count": 33,
   "metadata": {},
   "outputs": [
    {
     "name": "stdout",
     "output_type": "stream",
     "text": [
      " ---- Support Vector Machine ----\n",
      "[1.         0.93333333 1.         1.         1.         0.93333333\n",
      " 0.93333333 0.93333333 1.         1.        ]\n",
      "Result: 97% accuracy with standard deviation of 0.03\n",
      " ---- Decision Tree Classifier ----\n",
      "[1.         0.93333333 1.         0.93333333 0.93333333 0.86666667\n",
      " 0.93333333 0.93333333 1.         1.        ]\n",
      "Result: 95% accuracy with standard deviation of 0.04\n"
     ]
    }
   ],
   "source": [
    "import seaborn as sns\n",
    "from sklearn import model_selection\n",
    "from sklearn.tree import DecisionTreeClassifier \n",
    "from sklearn.model_selection import cross_val_score\n",
    "from sklearn.svm import SVC\n",
    "import numpy as np\n",
    "import time\n",
    "\n",
    "def current_milli_time():\n",
    "    return round(time.time() / 1000)\n",
    "\n",
    "# T1 - Descarregar e carregar o respetivo dataset, utilizando a função \n",
    "# `seaborn.load_dataset(‘iris’)` da biblioteca seaborn; \n",
    "\n",
    "df = sns.load_dataset('iris')\n",
    "\n",
    "# T3 - Preparar e organizar os conjuntos de casos de estudo do dataset em dados de treino e \n",
    "# teste, utilizando a função `sklearn.model_selection.train_test_split (..., test_size = 0.3)`;\n",
    "\n",
    "X = df.drop(['species'], axis='columns')\n",
    "X = X.astype(float)\n",
    "y = df['species'].to_frame()\n",
    "y = y.astype('category')\n",
    "\n",
    "X_train, X_test, y_train, y_test = model_selection.train_test_split(X, y, test_size=0.3, random_state=current_milli_time())\n",
    "\n",
    "# T4 - Treinar um modelo de máquina de vectores de suporte (sklearn.svm.SVC) e um modelo \n",
    "# de árvore de decisão como classificador (`sklearn.tree.DecisionTreeClassifier`). \n",
    "# Nota: Definir o X e o y. Atenção ao tipo dos atributos que fazem parte do X; \n",
    "\n",
    "cvm = SVC(random_state=current_milli_time())\n",
    "scores = cross_val_score(cvm, X, np.ravel(y), cv=10)\n",
    "print(' ---- Support Vector Machine ----')\n",
    "print(scores)\n",
    "print('Result: %0.0F%% accuracy with standard deviation of %0.2F' % (scores.mean() * 100, scores.std()))\n",
    "\n",
    "\n",
    "clf = DecisionTreeClassifier(random_state=current_milli_time())\n",
    "scores = cross_val_score(clf, X, y, cv=10)\n",
    "print(' ---- Decision Tree Classifier ----')\n",
    "print(scores)\n",
    "print('Result: %0.0F%% accuracy with standard deviation of %0.2F' % (scores.mean() * 100, scores.std()))\n",
    "\n",
    "\n",
    "\n",
    "\n"
   ]
  }
 ],
 "metadata": {
  "interpreter": {
   "hash": "7224488c109ee347a51044d5a2d556faa4f0e1b5fb0b066e09fbc64cc19b3964"
  },
  "kernelspec": {
   "display_name": "Python 3.8.0 64-bit ('DAA': conda)",
   "language": "python",
   "name": "python3"
  },
  "language_info": {
   "codemirror_mode": {
    "name": "ipython",
    "version": 3
   },
   "file_extension": ".py",
   "mimetype": "text/x-python",
   "name": "python",
   "nbconvert_exporter": "python",
   "pygments_lexer": "ipython3",
   "version": "3.8.0"
  },
  "orig_nbformat": 4
 },
 "nbformat": 4,
 "nbformat_minor": 2
}
