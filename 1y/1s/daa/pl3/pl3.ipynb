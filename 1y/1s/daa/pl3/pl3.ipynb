{
 "cells": [
  {
   "cell_type": "code",
   "execution_count": 10,
   "metadata": {},
   "outputs": [
    {
     "name": "stdout",
     "output_type": "stream",
     "text": [
      "      VMail Message  Day Mins  Eve Mins  Night Mins  Intl Mins  \\\n",
      "0                25     265.1     197.4       244.7       10.0   \n",
      "1                26     161.6     195.5       254.4       13.7   \n",
      "2                 0     243.4     121.2       162.6       12.2   \n",
      "3                 0     299.4      61.9       196.9        6.6   \n",
      "4                 0     166.7     148.3       186.9       10.1   \n",
      "...             ...       ...       ...         ...        ...   \n",
      "3328             36     156.2     215.5       279.1        9.9   \n",
      "3329              0     231.1     153.4       191.3        9.6   \n",
      "3330              0     180.8     288.8       191.9       14.1   \n",
      "3331              0     213.8     159.6       139.2        5.0   \n",
      "3332             25     234.4     265.9       241.4       13.7   \n",
      "\n",
      "      CustServ Calls  Day Calls  Day Charge  Eve Calls  Eve Charge  ...  \\\n",
      "0                  1        110       45.07         99       16.78  ...   \n",
      "1                  1        123       27.47        103       16.62  ...   \n",
      "2                  0        114       41.38        110       10.30  ...   \n",
      "3                  2         71       50.90         88        5.26  ...   \n",
      "4                  3        113       28.34        122       12.61  ...   \n",
      "...              ...        ...         ...        ...         ...  ...   \n",
      "3328               2         77       26.55        126       18.32  ...   \n",
      "3329               3         57       39.29         55       13.04  ...   \n",
      "3330               2        109       30.74         58       24.55  ...   \n",
      "3331               2        105       36.35         84       13.57  ...   \n",
      "3332               0        113       39.85         82       22.60  ...   \n",
      "\n",
      "      Night Charge  Intl Calls  Intl Charge  Area Code     Phone  \\\n",
      "0            11.01           3         2.70        415  382-4657   \n",
      "1            11.45           3         3.70        415  371-7191   \n",
      "2             7.32           5         3.29        415  358-1921   \n",
      "3             8.86           7         1.78        408  375-9999   \n",
      "4             8.41           3         2.73        415  330-6626   \n",
      "...            ...         ...          ...        ...       ...   \n",
      "3328         12.56           6         2.67        415  414-4276   \n",
      "3329          8.61           4         2.59        415  370-3271   \n",
      "3330          8.64           6         3.81        510  328-8230   \n",
      "3331          6.26          10         1.35        510  364-6381   \n",
      "3332         10.86           4         3.70        415  400-4344   \n",
      "\n",
      "     Account Length   Churn Int'l Plan  VMail Plan  State  \n",
      "0               128  stayed          0           1     KS  \n",
      "1               107  stayed          0           1     OH  \n",
      "2               137  stayed          0           0     NJ  \n",
      "3                84  stayed          1           0     OH  \n",
      "4                75  stayed          1           0     OK  \n",
      "...             ...     ...        ...         ...    ...  \n",
      "3328            192  stayed          0           1     AZ  \n",
      "3329             68  stayed          0           0     WV  \n",
      "3330             28  stayed          0           0     RI  \n",
      "3331            184  stayed          1           0     CT  \n",
      "3332             74  stayed          0           1     TN  \n",
      "\n",
      "[3333 rows x 21 columns]\n"
     ]
    }
   ],
   "source": [
    "import pandas as pd\n",
    "import sklearn as sk \n",
    "\n",
    "import os\n",
    "\n",
    "#print(os.getcwd())\n",
    "\n",
    "# Load dataset\n",
    "calls_data = pd.read_csv('CallsData.csv')\n",
    "contract_data = pd.read_csv('ContractData.csv')\n",
    "\n",
    "\n",
    "# Merge on Area code and Phone \n",
    "dataset = pd.merge(calls_data, contract_data, how=\"inner\", on=[\"Area Code\",\"Phone\"], sort=False)\n",
    "\n",
    "# Churn atribute from Binary to Nominal ('Stayed', 'Left')\n",
    "dataset['Churn'] = dataset['Churn'].apply(lambda x: 'left' if x == 1 else 'stayed' )\n",
    "\n",
    "#print(dataset)\n",
    "\n",
    "#dataset.to_csv('out.csv', sep=',')\n"
   ]
  }
 ],
 "metadata": {
  "interpreter": {
   "hash": "7224488c109ee347a51044d5a2d556faa4f0e1b5fb0b066e09fbc64cc19b3964"
  },
  "kernelspec": {
   "display_name": "Python 3.8.0 64-bit ('DAA': conda)",
   "name": "python3"
  },
  "language_info": {
   "codemirror_mode": {
    "name": "ipython",
    "version": 3
   },
   "file_extension": ".py",
   "mimetype": "text/x-python",
   "name": "python",
   "nbconvert_exporter": "python",
   "pygments_lexer": "ipython3",
   "version": "3.8.0"
  },
  "orig_nbformat": 4
 },
 "nbformat": 4,
 "nbformat_minor": 2
}
