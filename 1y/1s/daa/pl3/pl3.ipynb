{
 "cells": [
  {
   "cell_type": "code",
   "execution_count": 14,
   "metadata": {},
   "outputs": [
    {
     "name": "stdout",
     "output_type": "stream",
     "text": [
      "T2: 'Churn' attribute analysis\n",
      "0    2850\n",
      "1     483\n",
      "Name: Churn, dtype: int64\n"
     ]
    },
    {
     "data": {
      "image/png": "[encoded data removed]",
      "text/plain": [
       "<Figure size 432x288 with 1 Axes>"
      ]
     },
     "metadata": {
      "needs_background": "light"
     },
     "output_type": "display_data"
    },
    {
     "name": "stdout",
     "output_type": "stream",
     "text": [
      "\n",
      "T3\n",
      "[0.90419162 0.91317365 0.9251497  0.91891892 0.93693694 0.91891892\n",
      " 0.90690691 0.90990991 0.90990991 0.93693694]\n",
      "Result: 92% accuracy with standard deviation of 0.01\n"
     ]
    }
   ],
   "source": [
    "import pandas as pd\n",
    "from sklearn.tree import DecisionTreeClassifier \n",
    "from sklearn.model_selection import cross_val_score\n",
    "import matplotlib.pyplot as plt \n",
    "\n",
    "import os\n",
    "\n",
    "#print(os.getcwd())\n",
    " \n",
    "# Load dataset\n",
    "calls_data = pd.read_csv('CallsData.csv')\n",
    "contract_data = pd.read_csv('ContractData.csv')\n",
    "\n",
    "\n",
    "# Merge on Area code and Phone \n",
    "df = pd.merge(calls_data, contract_data, how=\"inner\", on=[\"Area Code\",\"Phone\"], sort=False)\n",
    "\n",
    "# Churn to nominal\n",
    "df['Churn'] = df['Churn'].astype('category')\n",
    "\n",
    "## T2\n",
    "\n",
    "print('T2: \\'Churn\\' attribute analysis')\n",
    "\n",
    "# desbalanceamento - value_counts\n",
    "print(df['Churn'].value_counts())\n",
    "\n",
    "## OU\n",
    "# print(df.groupby(by=['Churn']).count())\n",
    "\n",
    "# desbalanceamento - graficamente\n",
    "\n",
    "fig, ax1 = plt.subplots(1,1)\n",
    "card, _, _ = ax1.hist(df['Churn'], bins=2, rwidth=0.6)\n",
    "ax1.set_ylabel('Observation', fontsize=14)\n",
    "ax1.set_xlabel('Churn', fontsize=14)\n",
    "ax1.grid(axis='y', alpha=0.25)\n",
    "plt.show()\n",
    "\n",
    "\n",
    "print()\n",
    "\n",
    "## T3\n",
    "\n",
    "print('T3')\n",
    "\n",
    "X = df.drop(['Churn', 'Phone', 'State'], axis=1)\n",
    "y = df['Churn'].to_frame()\n",
    "\n",
    "clf = DecisionTreeClassifier(random_state=2021)\n",
    "scores = cross_val_score(clf, X, y, cv=10)\n",
    "print(scores)\n",
    "print('Result: %0.0F%% accuracy with standard deviation of %0.2F' % (scores.mean() * 100, scores.std()))\n",
    "\n",
    "\n",
    "\n"
   ]
  }
 ],
 "metadata": {
  "interpreter": {
   "hash": "7224488c109ee347a51044d5a2d556faa4f0e1b5fb0b066e09fbc64cc19b3964"
  },
  "kernelspec": {
   "display_name": "Python 3.8.0 64-bit ('DAA': conda)",
   "name": "python3"
  },
  "language_info": {
   "codemirror_mode": {
    "name": "ipython",
    "version": 3
   },
   "file_extension": ".py",
   "mimetype": "text/x-python",
   "name": "python",
   "nbconvert_exporter": "python",
   "pygments_lexer": "ipython3",
   "version": "3.8.0"
  },
  "orig_nbformat": 4
 },
 "nbformat": 4,
 "nbformat_minor": 2
}
