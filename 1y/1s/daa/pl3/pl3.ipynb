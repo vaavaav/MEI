{
 "cells": [
  {
   "cell_type": "code",
   "execution_count": 20,
   "metadata": {},
   "outputs": [
    {
     "data": {
      "text/plain": [
       "Index(['VMail Message', 'Day Mins', 'Eve Mins', 'Night Mins', 'Intl Mins',\n",
       "       'CustServ Calls', 'Day Calls', 'Day Charge', 'Eve Calls', 'Eve Charge',\n",
       "       'Night Calls', 'Night Charge', 'Intl Calls', 'Intl Charge', 'Area Code',\n",
       "       'Phone', 'Account Length', 'Churn', 'Int'l Plan', 'VMail Plan',\n",
       "       'State'],\n",
       "      dtype='object')"
      ]
     },
     "execution_count": 20,
     "metadata": {},
     "output_type": "execute_result"
    }
   ],
   "source": [
    "import pandas as pd\n",
    "import sklearn as sk \n",
    "\n",
    "import os\n",
    "\n",
    "#print(os.getcwd())\n",
    "\n",
    "# Load dataset\n",
    "calls_data = pd.read_csv('CallsData.csv')\n",
    "contract_data = pd.read_csv('ContractData.csv')\n",
    "\n",
    "\n",
    "# Merge on Area code and Phone \n",
    "dataset = pd.merge(calls_data, contract_data, how=\"inner\", on=[\"Area Code\",\"Phone\"])\n",
    "\n",
    "dataset.columns\n",
    "\n"
   ]
  }
 ],
 "metadata": {
  "interpreter": {
   "hash": "7224488c109ee347a51044d5a2d556faa4f0e1b5fb0b066e09fbc64cc19b3964"
  },
  "kernelspec": {
   "display_name": "Python 3.8.0 64-bit ('DAA': conda)",
   "name": "python3"
  },
  "language_info": {
   "codemirror_mode": {
    "name": "ipython",
    "version": 3
   },
   "file_extension": ".py",
   "mimetype": "text/x-python",
   "name": "python",
   "nbconvert_exporter": "python",
   "pygments_lexer": "ipython3",
   "version": "3.8.0"
  },
  "orig_nbformat": 4
 },
 "nbformat": 4,
 "nbformat_minor": 2
}
