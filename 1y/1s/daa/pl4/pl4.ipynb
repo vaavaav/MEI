{
 "cells": [
  {
   "cell_type": "code",
   "execution_count": 15,
   "metadata": {},
   "outputs": [
    {
     "name": "stdout",
     "output_type": "stream",
     "text": [
      "                      Coefficient\n",
      "Avg. Session Length     25.452893\n",
      "Time on App             39.066221\n",
      "Time on Website          0.288187\n",
      "Length of Membership    61.763612\n"
     ]
    }
   ],
   "source": [
    "import pandas as pd\n",
    "from sklearn.model_selection import train_test_split\n",
    "from sklearn.linear_model import LinearRegression\n",
    " \n",
    "# Load dataset\n",
    "df = pd.read_csv('EcommerceCustomers.csv')\n",
    "\n",
    "\n",
    "X = df.drop(['Email','Address','Avatar','Yearly Amount Spent'],axis='columns')\n",
    "y = df['Yearly Amount Spent']\n",
    "\n",
    "X_train, X_test, y_train, y_test = train_test_split(X, y, test_size=0.3, random_state=12) \n",
    "\n",
    "lm = LinearRegression()\n",
    "lm.fit(X_train, y_train)\n",
    "\n",
    "coeff_df = pd.DataFrame(lm.coef_, X.columns, columns=['Coefficient'])\n",
    "print(coeff_df)\n"
   ]
  }
 ],
 "metadata": {
  "interpreter": {
   "hash": "7224488c109ee347a51044d5a2d556faa4f0e1b5fb0b066e09fbc64cc19b3964"
  },
  "kernelspec": {
   "display_name": "Python 3.8.0 64-bit ('DAA': conda)",
   "name": "python3"
  },
  "language_info": {
   "codemirror_mode": {
    "name": "ipython",
    "version": 3
   },
   "file_extension": ".py",
   "mimetype": "text/x-python",
   "name": "python",
   "nbconvert_exporter": "python",
   "pygments_lexer": "ipython3",
   "version": "3.8.0"
  },
  "orig_nbformat": 4
 },
 "nbformat": 4,
 "nbformat_minor": 2
}
